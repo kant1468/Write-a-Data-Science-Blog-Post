{
 "cells": [
  {
   "cell_type": "markdown",
   "id": "f497f7cb",
   "metadata": {},
   "source": [
    "## Table of contents:  \n",
    "[Business Understanding](#business-understanding)  \n",
    "[Data Understanding](#aa)  \n",
    "[Prepare Data](#prepare-data)  \n",
    "[Data Visualization and Evaluate](#data-visualization-and-evaluate)  \n",
    "* [**<u>Question 1<u>**: What is the busiest day of the week and month?](#question-1)\n",
    "* [**<u>Question 2<u>**: The top 5 property types of AirBnB have the most in Seattle?](#question-2)\n",
    "* [**<u>Question 3<u>**: What was the monthly revenue of Airbnb in Seattle in 2016?](#question-3)"
   ]
  },
  {
   "cell_type": "markdown",
   "id": "489dfed7",
   "metadata": {},
   "source": [
    "## Business Understanding <a id=\"business-understanding\"> </a>"
   ]
  },
  {
   "cell_type": "markdown",
   "id": "b37862ff",
   "metadata": {},
   "source": [
    "Since 2008, guests and hosts have used Airbnb to travel in a more unique, personalized way. It is even more advanced now.\n",
    "The goal of this project is to identify the features of AirBnB that will draw in more guests.\n",
    "\n",
    "This project will find the answers to the following three questions:\n",
    "\n",
    "* **<u>Question 1<u>**: What is the busiest day of the week and month?\n",
    "\n",
    "* **<u>Question 2<u>**: The top 5 property types of AirBnB have the most in Seattle?\n",
    "\n",
    "* **<u>Question 3<u>**: How much cash should you have ready to rent an AirBnB in Seattle?"
   ]
  },
  {
   "cell_type": "markdown",
   "id": "cc81826c",
   "metadata": {},
   "source": [
    "## Data Understanding <a id=\"data-understanding\"></a>"
   ]
  },
  {
   "cell_type": "code",
   "execution_count": 1,
   "id": "4821fe44",
   "metadata": {},
   "outputs": [],
   "source": [
    "# import library \n",
    "import numpy as np\n",
    "import pandas as pd\n",
    "import matplotlib.pyplot as plt\n",
    "import seaborn as sns\n",
    "%matplotlib inline\n",
    "import warnings\n",
    "warnings.filterwarnings('ignore')\n",
    "\n",
    "pd.options.display.max_rows = 999"
   ]
  },
  {
   "cell_type": "code",
   "execution_count": 2,
   "id": "fe3738f7",
   "metadata": {},
   "outputs": [
    {
     "data": {
      "text/html": [
       "<div>\n",
       "<style scoped>\n",
       "    .dataframe tbody tr th:only-of-type {\n",
       "        vertical-align: middle;\n",
       "    }\n",
       "\n",
       "    .dataframe tbody tr th {\n",
       "        vertical-align: top;\n",
       "    }\n",
       "\n",
       "    .dataframe thead th {\n",
       "        text-align: right;\n",
       "    }\n",
       "</style>\n",
       "<table border=\"1\" class=\"dataframe\">\n",
       "  <thead>\n",
       "    <tr style=\"text-align: right;\">\n",
       "      <th></th>\n",
       "      <th>listing_id</th>\n",
       "      <th>date</th>\n",
       "      <th>available</th>\n",
       "      <th>price</th>\n",
       "    </tr>\n",
       "  </thead>\n",
       "  <tbody>\n",
       "    <tr>\n",
       "      <th>0</th>\n",
       "      <td>241032</td>\n",
       "      <td>2016-01-04</td>\n",
       "      <td>t</td>\n",
       "      <td>$85.00</td>\n",
       "    </tr>\n",
       "    <tr>\n",
       "      <th>1</th>\n",
       "      <td>241032</td>\n",
       "      <td>2016-01-05</td>\n",
       "      <td>t</td>\n",
       "      <td>$85.00</td>\n",
       "    </tr>\n",
       "    <tr>\n",
       "      <th>2</th>\n",
       "      <td>241032</td>\n",
       "      <td>2016-01-06</td>\n",
       "      <td>f</td>\n",
       "      <td>NaN</td>\n",
       "    </tr>\n",
       "    <tr>\n",
       "      <th>3</th>\n",
       "      <td>241032</td>\n",
       "      <td>2016-01-07</td>\n",
       "      <td>f</td>\n",
       "      <td>NaN</td>\n",
       "    </tr>\n",
       "    <tr>\n",
       "      <th>4</th>\n",
       "      <td>241032</td>\n",
       "      <td>2016-01-08</td>\n",
       "      <td>f</td>\n",
       "      <td>NaN</td>\n",
       "    </tr>\n",
       "  </tbody>\n",
       "</table>\n",
       "</div>"
      ],
      "text/plain": [
       "   listing_id       date available   price\n",
       "0      241032 2016-01-04         t  $85.00\n",
       "1      241032 2016-01-05         t  $85.00\n",
       "2      241032 2016-01-06         f     NaN\n",
       "3      241032 2016-01-07         f     NaN\n",
       "4      241032 2016-01-08         f     NaN"
      ]
     },
     "execution_count": 2,
     "metadata": {},
     "output_type": "execute_result"
    }
   ],
   "source": [
    "# read data calendar\n",
    "df_calen = pd.read_csv('./calendar.csv', parse_dates=['date'])\n",
    "df_calen.head()"
   ]
  },
  {
   "cell_type": "code",
   "execution_count": 3,
   "id": "75a813a9",
   "metadata": {},
   "outputs": [
    {
     "data": {
      "text/plain": [
       "(1393570, 4)"
      ]
     },
     "execution_count": 3,
     "metadata": {},
     "output_type": "execute_result"
    }
   ],
   "source": [
    "df_calen.shape"
   ]
  },
  {
   "cell_type": "code",
   "execution_count": 4,
   "id": "43505443",
   "metadata": {},
   "outputs": [
    {
     "data": {
      "text/plain": [
       "listing_id             int64\n",
       "date          datetime64[ns]\n",
       "available             object\n",
       "price                 object\n",
       "dtype: object"
      ]
     },
     "execution_count": 4,
     "metadata": {},
     "output_type": "execute_result"
    }
   ],
   "source": [
    "df_calen.dtypes"
   ]
  },
  {
   "cell_type": "code",
   "execution_count": 5,
   "id": "30be915a",
   "metadata": {},
   "outputs": [
    {
     "data": {
      "text/plain": [
       "listing_id         0\n",
       "date               0\n",
       "available          0\n",
       "price         459028\n",
       "dtype: int64"
      ]
     },
     "execution_count": 5,
     "metadata": {},
     "output_type": "execute_result"
    }
   ],
   "source": [
    "# check null value\n",
    "df_calen.isnull().sum()"
   ]
  },
  {
   "cell_type": "code",
   "execution_count": 6,
   "id": "874e5947",
   "metadata": {},
   "outputs": [
    {
     "data": {
      "text/plain": [
       "3818"
      ]
     },
     "execution_count": 6,
     "metadata": {},
     "output_type": "execute_result"
    }
   ],
   "source": [
    "# check number of unique values of listing_id\n",
    "a = df_calen['listing_id'].unique()\n",
    "len(a)"
   ]
  },
  {
   "cell_type": "code",
   "execution_count": 7,
   "id": "efa2c378",
   "metadata": {},
   "outputs": [
    {
     "data": {
      "text/html": [
       "<div>\n",
       "<style scoped>\n",
       "    .dataframe tbody tr th:only-of-type {\n",
       "        vertical-align: middle;\n",
       "    }\n",
       "\n",
       "    .dataframe tbody tr th {\n",
       "        vertical-align: top;\n",
       "    }\n",
       "\n",
       "    .dataframe thead th {\n",
       "        text-align: right;\n",
       "    }\n",
       "</style>\n",
       "<table border=\"1\" class=\"dataframe\">\n",
       "  <thead>\n",
       "    <tr style=\"text-align: right;\">\n",
       "      <th></th>\n",
       "      <th>id</th>\n",
       "      <th>listing_url</th>\n",
       "      <th>scrape_id</th>\n",
       "      <th>last_scraped</th>\n",
       "      <th>name</th>\n",
       "      <th>summary</th>\n",
       "      <th>space</th>\n",
       "      <th>description</th>\n",
       "      <th>experiences_offered</th>\n",
       "      <th>neighborhood_overview</th>\n",
       "      <th>...</th>\n",
       "      <th>review_scores_value</th>\n",
       "      <th>requires_license</th>\n",
       "      <th>license</th>\n",
       "      <th>jurisdiction_names</th>\n",
       "      <th>instant_bookable</th>\n",
       "      <th>cancellation_policy</th>\n",
       "      <th>require_guest_profile_picture</th>\n",
       "      <th>require_guest_phone_verification</th>\n",
       "      <th>calculated_host_listings_count</th>\n",
       "      <th>reviews_per_month</th>\n",
       "    </tr>\n",
       "  </thead>\n",
       "  <tbody>\n",
       "    <tr>\n",
       "      <th>0</th>\n",
       "      <td>241032</td>\n",
       "      <td>https://www.airbnb.com/rooms/241032</td>\n",
       "      <td>20160104002432</td>\n",
       "      <td>2016-01-04</td>\n",
       "      <td>Stylish Queen Anne Apartment</td>\n",
       "      <td>NaN</td>\n",
       "      <td>Make your self at home in this charming one-be...</td>\n",
       "      <td>Make your self at home in this charming one-be...</td>\n",
       "      <td>none</td>\n",
       "      <td>NaN</td>\n",
       "      <td>...</td>\n",
       "      <td>10.0</td>\n",
       "      <td>f</td>\n",
       "      <td>NaN</td>\n",
       "      <td>WASHINGTON</td>\n",
       "      <td>f</td>\n",
       "      <td>moderate</td>\n",
       "      <td>f</td>\n",
       "      <td>f</td>\n",
       "      <td>2</td>\n",
       "      <td>4.07</td>\n",
       "    </tr>\n",
       "    <tr>\n",
       "      <th>1</th>\n",
       "      <td>953595</td>\n",
       "      <td>https://www.airbnb.com/rooms/953595</td>\n",
       "      <td>20160104002432</td>\n",
       "      <td>2016-01-04</td>\n",
       "      <td>Bright &amp; Airy Queen Anne Apartment</td>\n",
       "      <td>Chemically sensitive? We've removed the irrita...</td>\n",
       "      <td>Beautiful, hypoallergenic apartment in an extr...</td>\n",
       "      <td>Chemically sensitive? We've removed the irrita...</td>\n",
       "      <td>none</td>\n",
       "      <td>Queen Anne is a wonderful, truly functional vi...</td>\n",
       "      <td>...</td>\n",
       "      <td>10.0</td>\n",
       "      <td>f</td>\n",
       "      <td>NaN</td>\n",
       "      <td>WASHINGTON</td>\n",
       "      <td>f</td>\n",
       "      <td>strict</td>\n",
       "      <td>t</td>\n",
       "      <td>t</td>\n",
       "      <td>6</td>\n",
       "      <td>1.48</td>\n",
       "    </tr>\n",
       "    <tr>\n",
       "      <th>2</th>\n",
       "      <td>3308979</td>\n",
       "      <td>https://www.airbnb.com/rooms/3308979</td>\n",
       "      <td>20160104002432</td>\n",
       "      <td>2016-01-04</td>\n",
       "      <td>New Modern House-Amazing water view</td>\n",
       "      <td>New modern house built in 2013.  Spectacular s...</td>\n",
       "      <td>Our house is modern, light and fresh with a wa...</td>\n",
       "      <td>New modern house built in 2013.  Spectacular s...</td>\n",
       "      <td>none</td>\n",
       "      <td>Upper Queen Anne is a charming neighborhood fu...</td>\n",
       "      <td>...</td>\n",
       "      <td>10.0</td>\n",
       "      <td>f</td>\n",
       "      <td>NaN</td>\n",
       "      <td>WASHINGTON</td>\n",
       "      <td>f</td>\n",
       "      <td>strict</td>\n",
       "      <td>f</td>\n",
       "      <td>f</td>\n",
       "      <td>2</td>\n",
       "      <td>1.15</td>\n",
       "    </tr>\n",
       "    <tr>\n",
       "      <th>3</th>\n",
       "      <td>7421966</td>\n",
       "      <td>https://www.airbnb.com/rooms/7421966</td>\n",
       "      <td>20160104002432</td>\n",
       "      <td>2016-01-04</td>\n",
       "      <td>Queen Anne Chateau</td>\n",
       "      <td>A charming apartment that sits atop Queen Anne...</td>\n",
       "      <td>NaN</td>\n",
       "      <td>A charming apartment that sits atop Queen Anne...</td>\n",
       "      <td>none</td>\n",
       "      <td>NaN</td>\n",
       "      <td>...</td>\n",
       "      <td>NaN</td>\n",
       "      <td>f</td>\n",
       "      <td>NaN</td>\n",
       "      <td>WASHINGTON</td>\n",
       "      <td>f</td>\n",
       "      <td>flexible</td>\n",
       "      <td>f</td>\n",
       "      <td>f</td>\n",
       "      <td>1</td>\n",
       "      <td>NaN</td>\n",
       "    </tr>\n",
       "    <tr>\n",
       "      <th>4</th>\n",
       "      <td>278830</td>\n",
       "      <td>https://www.airbnb.com/rooms/278830</td>\n",
       "      <td>20160104002432</td>\n",
       "      <td>2016-01-04</td>\n",
       "      <td>Charming craftsman 3 bdm house</td>\n",
       "      <td>Cozy family craftman house in beautiful neighb...</td>\n",
       "      <td>Cozy family craftman house in beautiful neighb...</td>\n",
       "      <td>Cozy family craftman house in beautiful neighb...</td>\n",
       "      <td>none</td>\n",
       "      <td>We are in the beautiful neighborhood of Queen ...</td>\n",
       "      <td>...</td>\n",
       "      <td>9.0</td>\n",
       "      <td>f</td>\n",
       "      <td>NaN</td>\n",
       "      <td>WASHINGTON</td>\n",
       "      <td>f</td>\n",
       "      <td>strict</td>\n",
       "      <td>f</td>\n",
       "      <td>f</td>\n",
       "      <td>1</td>\n",
       "      <td>0.89</td>\n",
       "    </tr>\n",
       "  </tbody>\n",
       "</table>\n",
       "<p>5 rows × 92 columns</p>\n",
       "</div>"
      ],
      "text/plain": [
       "        id                           listing_url       scrape_id last_scraped  \\\n",
       "0   241032   https://www.airbnb.com/rooms/241032  20160104002432   2016-01-04   \n",
       "1   953595   https://www.airbnb.com/rooms/953595  20160104002432   2016-01-04   \n",
       "2  3308979  https://www.airbnb.com/rooms/3308979  20160104002432   2016-01-04   \n",
       "3  7421966  https://www.airbnb.com/rooms/7421966  20160104002432   2016-01-04   \n",
       "4   278830   https://www.airbnb.com/rooms/278830  20160104002432   2016-01-04   \n",
       "\n",
       "                                  name  \\\n",
       "0         Stylish Queen Anne Apartment   \n",
       "1   Bright & Airy Queen Anne Apartment   \n",
       "2  New Modern House-Amazing water view   \n",
       "3                   Queen Anne Chateau   \n",
       "4       Charming craftsman 3 bdm house   \n",
       "\n",
       "                                             summary  \\\n",
       "0                                                NaN   \n",
       "1  Chemically sensitive? We've removed the irrita...   \n",
       "2  New modern house built in 2013.  Spectacular s...   \n",
       "3  A charming apartment that sits atop Queen Anne...   \n",
       "4  Cozy family craftman house in beautiful neighb...   \n",
       "\n",
       "                                               space  \\\n",
       "0  Make your self at home in this charming one-be...   \n",
       "1  Beautiful, hypoallergenic apartment in an extr...   \n",
       "2  Our house is modern, light and fresh with a wa...   \n",
       "3                                                NaN   \n",
       "4  Cozy family craftman house in beautiful neighb...   \n",
       "\n",
       "                                         description experiences_offered  \\\n",
       "0  Make your self at home in this charming one-be...                none   \n",
       "1  Chemically sensitive? We've removed the irrita...                none   \n",
       "2  New modern house built in 2013.  Spectacular s...                none   \n",
       "3  A charming apartment that sits atop Queen Anne...                none   \n",
       "4  Cozy family craftman house in beautiful neighb...                none   \n",
       "\n",
       "                               neighborhood_overview  ... review_scores_value  \\\n",
       "0                                                NaN  ...                10.0   \n",
       "1  Queen Anne is a wonderful, truly functional vi...  ...                10.0   \n",
       "2  Upper Queen Anne is a charming neighborhood fu...  ...                10.0   \n",
       "3                                                NaN  ...                 NaN   \n",
       "4  We are in the beautiful neighborhood of Queen ...  ...                 9.0   \n",
       "\n",
       "  requires_license license jurisdiction_names instant_bookable  \\\n",
       "0                f     NaN         WASHINGTON                f   \n",
       "1                f     NaN         WASHINGTON                f   \n",
       "2                f     NaN         WASHINGTON                f   \n",
       "3                f     NaN         WASHINGTON                f   \n",
       "4                f     NaN         WASHINGTON                f   \n",
       "\n",
       "  cancellation_policy  require_guest_profile_picture  \\\n",
       "0            moderate                              f   \n",
       "1              strict                              t   \n",
       "2              strict                              f   \n",
       "3            flexible                              f   \n",
       "4              strict                              f   \n",
       "\n",
       "  require_guest_phone_verification calculated_host_listings_count  \\\n",
       "0                                f                              2   \n",
       "1                                t                              6   \n",
       "2                                f                              2   \n",
       "3                                f                              1   \n",
       "4                                f                              1   \n",
       "\n",
       "  reviews_per_month  \n",
       "0              4.07  \n",
       "1              1.48  \n",
       "2              1.15  \n",
       "3               NaN  \n",
       "4              0.89  \n",
       "\n",
       "[5 rows x 92 columns]"
      ]
     },
     "execution_count": 7,
     "metadata": {},
     "output_type": "execute_result"
    }
   ],
   "source": [
    "# read data listings\n",
    "df_listings = pd.read_csv('./listings.csv')\n",
    "df_listings.head()"
   ]
  },
  {
   "cell_type": "code",
   "execution_count": 8,
   "id": "2a9b46d3",
   "metadata": {},
   "outputs": [
    {
     "data": {
      "text/plain": [
       "(3818, 92)"
      ]
     },
     "execution_count": 8,
     "metadata": {},
     "output_type": "execute_result"
    }
   ],
   "source": [
    "df_listings.shape"
   ]
  },
  {
   "cell_type": "markdown",
   "id": "08acc493",
   "metadata": {},
   "source": [
    "dataset listings have too much columns, need to eliminate "
   ]
  },
  {
   "cell_type": "code",
   "execution_count": 9,
   "id": "c8e86d99",
   "metadata": {},
   "outputs": [
    {
     "data": {
      "text/plain": [
       "id                                    int64\n",
       "listing_url                          object\n",
       "scrape_id                             int64\n",
       "last_scraped                         object\n",
       "name                                 object\n",
       "summary                              object\n",
       "space                                object\n",
       "description                          object\n",
       "experiences_offered                  object\n",
       "neighborhood_overview                object\n",
       "notes                                object\n",
       "transit                              object\n",
       "thumbnail_url                        object\n",
       "medium_url                           object\n",
       "picture_url                          object\n",
       "xl_picture_url                       object\n",
       "host_id                               int64\n",
       "host_url                             object\n",
       "host_name                            object\n",
       "host_since                           object\n",
       "host_location                        object\n",
       "host_about                           object\n",
       "host_response_time                   object\n",
       "host_response_rate                   object\n",
       "host_acceptance_rate                 object\n",
       "host_is_superhost                    object\n",
       "host_thumbnail_url                   object\n",
       "host_picture_url                     object\n",
       "host_neighbourhood                   object\n",
       "host_listings_count                 float64\n",
       "host_total_listings_count           float64\n",
       "host_verifications                   object\n",
       "host_has_profile_pic                 object\n",
       "host_identity_verified               object\n",
       "street                               object\n",
       "neighbourhood                        object\n",
       "neighbourhood_cleansed               object\n",
       "neighbourhood_group_cleansed         object\n",
       "city                                 object\n",
       "state                                object\n",
       "zipcode                              object\n",
       "market                               object\n",
       "smart_location                       object\n",
       "country_code                         object\n",
       "country                              object\n",
       "latitude                            float64\n",
       "longitude                           float64\n",
       "is_location_exact                    object\n",
       "property_type                        object\n",
       "room_type                            object\n",
       "accommodates                          int64\n",
       "bathrooms                           float64\n",
       "bedrooms                            float64\n",
       "beds                                float64\n",
       "bed_type                             object\n",
       "amenities                            object\n",
       "square_feet                         float64\n",
       "price                                object\n",
       "weekly_price                         object\n",
       "monthly_price                        object\n",
       "security_deposit                     object\n",
       "cleaning_fee                         object\n",
       "guests_included                       int64\n",
       "extra_people                         object\n",
       "minimum_nights                        int64\n",
       "maximum_nights                        int64\n",
       "calendar_updated                     object\n",
       "has_availability                     object\n",
       "availability_30                       int64\n",
       "availability_60                       int64\n",
       "availability_90                       int64\n",
       "availability_365                      int64\n",
       "calendar_last_scraped                object\n",
       "number_of_reviews                     int64\n",
       "first_review                         object\n",
       "last_review                          object\n",
       "review_scores_rating                float64\n",
       "review_scores_accuracy              float64\n",
       "review_scores_cleanliness           float64\n",
       "review_scores_checkin               float64\n",
       "review_scores_communication         float64\n",
       "review_scores_location              float64\n",
       "review_scores_value                 float64\n",
       "requires_license                     object\n",
       "license                             float64\n",
       "jurisdiction_names                   object\n",
       "instant_bookable                     object\n",
       "cancellation_policy                  object\n",
       "require_guest_profile_picture        object\n",
       "require_guest_phone_verification     object\n",
       "calculated_host_listings_count        int64\n",
       "reviews_per_month                   float64\n",
       "dtype: object"
      ]
     },
     "execution_count": 9,
     "metadata": {},
     "output_type": "execute_result"
    }
   ],
   "source": [
    "df_listings.dtypes"
   ]
  },
  {
   "cell_type": "code",
   "execution_count": 10,
   "id": "9bc65305",
   "metadata": {},
   "outputs": [
    {
     "data": {
      "text/plain": [
       "id                                     0\n",
       "listing_url                            0\n",
       "scrape_id                              0\n",
       "last_scraped                           0\n",
       "name                                   0\n",
       "summary                              177\n",
       "space                                569\n",
       "description                            0\n",
       "experiences_offered                    0\n",
       "neighborhood_overview               1032\n",
       "notes                               1606\n",
       "transit                              934\n",
       "thumbnail_url                        320\n",
       "medium_url                           320\n",
       "picture_url                            0\n",
       "xl_picture_url                       320\n",
       "host_id                                0\n",
       "host_url                               0\n",
       "host_name                              2\n",
       "host_since                             2\n",
       "host_location                          8\n",
       "host_about                           859\n",
       "host_response_time                   523\n",
       "host_response_rate                   523\n",
       "host_acceptance_rate                 773\n",
       "host_is_superhost                      2\n",
       "host_thumbnail_url                     2\n",
       "host_picture_url                       2\n",
       "host_neighbourhood                   300\n",
       "host_listings_count                    2\n",
       "host_total_listings_count              2\n",
       "host_verifications                     2\n",
       "host_has_profile_pic                   2\n",
       "host_identity_verified                 2\n",
       "street                                 0\n",
       "neighbourhood                        416\n",
       "neighbourhood_cleansed                 0\n",
       "neighbourhood_group_cleansed           0\n",
       "city                                   0\n",
       "state                                  0\n",
       "zipcode                                7\n",
       "market                                 0\n",
       "smart_location                         0\n",
       "country_code                           0\n",
       "country                                0\n",
       "latitude                               0\n",
       "longitude                              0\n",
       "is_location_exact                      0\n",
       "property_type                          1\n",
       "room_type                              0\n",
       "accommodates                           0\n",
       "bathrooms                             16\n",
       "bedrooms                               6\n",
       "beds                                   1\n",
       "bed_type                               0\n",
       "amenities                              0\n",
       "square_feet                         3721\n",
       "price                                  0\n",
       "weekly_price                        1809\n",
       "monthly_price                       2301\n",
       "security_deposit                    1952\n",
       "cleaning_fee                        1030\n",
       "guests_included                        0\n",
       "extra_people                           0\n",
       "minimum_nights                         0\n",
       "maximum_nights                         0\n",
       "calendar_updated                       0\n",
       "has_availability                       0\n",
       "availability_30                        0\n",
       "availability_60                        0\n",
       "availability_90                        0\n",
       "availability_365                       0\n",
       "calendar_last_scraped                  0\n",
       "number_of_reviews                      0\n",
       "first_review                         627\n",
       "last_review                          627\n",
       "review_scores_rating                 647\n",
       "review_scores_accuracy               658\n",
       "review_scores_cleanliness            653\n",
       "review_scores_checkin                658\n",
       "review_scores_communication          651\n",
       "review_scores_location               655\n",
       "review_scores_value                  656\n",
       "requires_license                       0\n",
       "license                             3818\n",
       "jurisdiction_names                     0\n",
       "instant_bookable                       0\n",
       "cancellation_policy                    0\n",
       "require_guest_profile_picture          0\n",
       "require_guest_phone_verification       0\n",
       "calculated_host_listings_count         0\n",
       "reviews_per_month                    627\n",
       "dtype: int64"
      ]
     },
     "execution_count": 10,
     "metadata": {},
     "output_type": "execute_result"
    }
   ],
   "source": [
    "df_listings.isnull().sum()"
   ]
  },
  {
   "cell_type": "code",
   "execution_count": 11,
   "id": "8bb80d3f",
   "metadata": {},
   "outputs": [
    {
     "data": {
      "text/plain": [
       "Index(['summary', 'space', 'neighborhood_overview', 'notes', 'transit',\n",
       "       'thumbnail_url', 'medium_url', 'xl_picture_url', 'host_name',\n",
       "       'host_since', 'host_location', 'host_about', 'host_response_time',\n",
       "       'host_response_rate', 'host_acceptance_rate', 'host_is_superhost',\n",
       "       'host_thumbnail_url', 'host_picture_url', 'host_neighbourhood',\n",
       "       'host_listings_count', 'host_total_listings_count',\n",
       "       'host_verifications', 'host_has_profile_pic', 'host_identity_verified',\n",
       "       'neighbourhood', 'zipcode', 'property_type', 'bathrooms', 'bedrooms',\n",
       "       'beds', 'square_feet', 'weekly_price', 'monthly_price',\n",
       "       'security_deposit', 'cleaning_fee', 'first_review', 'last_review',\n",
       "       'review_scores_rating', 'review_scores_accuracy',\n",
       "       'review_scores_cleanliness', 'review_scores_checkin',\n",
       "       'review_scores_communication', 'review_scores_location',\n",
       "       'review_scores_value', 'license', 'reviews_per_month'],\n",
       "      dtype='object')"
      ]
     },
     "execution_count": 11,
     "metadata": {},
     "output_type": "execute_result"
    }
   ],
   "source": [
    "df_listings.columns[df_listings.isna().any()]"
   ]
  },
  {
   "cell_type": "markdown",
   "id": "2a44b277",
   "metadata": {},
   "source": [
    "## Prepare Data <a id=\"prepare-data\"></a>"
   ]
  },
  {
   "cell_type": "markdown",
   "id": "3f7153f4",
   "metadata": {},
   "source": [
    "### Some definition help to process data in this project"
   ]
  },
  {
   "cell_type": "markdown",
   "id": "ec81b3cf",
   "metadata": {},
   "source": [
    "Data have some symbol like $ in Price column, so we need to remove that symbol, make it easy to answer question 3."
   ]
  },
  {
   "cell_type": "code",
   "execution_count": 12,
   "id": "c8205758",
   "metadata": {},
   "outputs": [],
   "source": [
    "# def get price because price have symbol $\n",
    "def get_price(df, columns):\n",
    "    # Remove the dollar sign and any other non-digit characters\n",
    "    for column in columns:\n",
    "         df[column] = df[column].str.replace(r'[^0-9.]', '', regex=True)\n",
    "         df[column] = df[column].astype('float')\n",
    "    return df"
   ]
  },
  {
   "cell_type": "markdown",
   "id": "78de23ce",
   "metadata": {},
   "source": [
    "In listings and calendar dataset, we have too many columns, but we don't use all, so we just collect some columns."
   ]
  },
  {
   "cell_type": "code",
   "execution_count": 13,
   "id": "5def98f7",
   "metadata": {},
   "outputs": [],
   "source": [
    "df_listings = df_listings[['id', 'property_type', 'name', 'price']]\n",
    "df_calen = df_calen[['listing_id', 'date', 'available']]"
   ]
  },
  {
   "cell_type": "code",
   "execution_count": 14,
   "id": "c4cdf2bd",
   "metadata": {},
   "outputs": [
    {
     "data": {
      "text/html": [
       "<div>\n",
       "<style scoped>\n",
       "    .dataframe tbody tr th:only-of-type {\n",
       "        vertical-align: middle;\n",
       "    }\n",
       "\n",
       "    .dataframe tbody tr th {\n",
       "        vertical-align: top;\n",
       "    }\n",
       "\n",
       "    .dataframe thead th {\n",
       "        text-align: right;\n",
       "    }\n",
       "</style>\n",
       "<table border=\"1\" class=\"dataframe\">\n",
       "  <thead>\n",
       "    <tr style=\"text-align: right;\">\n",
       "      <th></th>\n",
       "      <th>listing_id</th>\n",
       "      <th>date</th>\n",
       "      <th>available</th>\n",
       "      <th>id</th>\n",
       "      <th>property_type</th>\n",
       "      <th>name</th>\n",
       "      <th>price</th>\n",
       "    </tr>\n",
       "  </thead>\n",
       "  <tbody>\n",
       "    <tr>\n",
       "      <th>0</th>\n",
       "      <td>241032</td>\n",
       "      <td>2016-01-04</td>\n",
       "      <td>t</td>\n",
       "      <td>241032</td>\n",
       "      <td>Apartment</td>\n",
       "      <td>Stylish Queen Anne Apartment</td>\n",
       "      <td>$85.00</td>\n",
       "    </tr>\n",
       "    <tr>\n",
       "      <th>1</th>\n",
       "      <td>241032</td>\n",
       "      <td>2016-01-05</td>\n",
       "      <td>t</td>\n",
       "      <td>241032</td>\n",
       "      <td>Apartment</td>\n",
       "      <td>Stylish Queen Anne Apartment</td>\n",
       "      <td>$85.00</td>\n",
       "    </tr>\n",
       "    <tr>\n",
       "      <th>2</th>\n",
       "      <td>241032</td>\n",
       "      <td>2016-01-06</td>\n",
       "      <td>f</td>\n",
       "      <td>241032</td>\n",
       "      <td>Apartment</td>\n",
       "      <td>Stylish Queen Anne Apartment</td>\n",
       "      <td>$85.00</td>\n",
       "    </tr>\n",
       "    <tr>\n",
       "      <th>3</th>\n",
       "      <td>241032</td>\n",
       "      <td>2016-01-07</td>\n",
       "      <td>f</td>\n",
       "      <td>241032</td>\n",
       "      <td>Apartment</td>\n",
       "      <td>Stylish Queen Anne Apartment</td>\n",
       "      <td>$85.00</td>\n",
       "    </tr>\n",
       "    <tr>\n",
       "      <th>4</th>\n",
       "      <td>241032</td>\n",
       "      <td>2016-01-08</td>\n",
       "      <td>f</td>\n",
       "      <td>241032</td>\n",
       "      <td>Apartment</td>\n",
       "      <td>Stylish Queen Anne Apartment</td>\n",
       "      <td>$85.00</td>\n",
       "    </tr>\n",
       "    <tr>\n",
       "      <th>...</th>\n",
       "      <td>...</td>\n",
       "      <td>...</td>\n",
       "      <td>...</td>\n",
       "      <td>...</td>\n",
       "      <td>...</td>\n",
       "      <td>...</td>\n",
       "      <td>...</td>\n",
       "    </tr>\n",
       "    <tr>\n",
       "      <th>1393565</th>\n",
       "      <td>10208623</td>\n",
       "      <td>2016-12-29</td>\n",
       "      <td>f</td>\n",
       "      <td>10208623</td>\n",
       "      <td>Apartment</td>\n",
       "      <td>Large Lakefront Apartment</td>\n",
       "      <td>$87.00</td>\n",
       "    </tr>\n",
       "    <tr>\n",
       "      <th>1393566</th>\n",
       "      <td>10208623</td>\n",
       "      <td>2016-12-30</td>\n",
       "      <td>f</td>\n",
       "      <td>10208623</td>\n",
       "      <td>Apartment</td>\n",
       "      <td>Large Lakefront Apartment</td>\n",
       "      <td>$87.00</td>\n",
       "    </tr>\n",
       "    <tr>\n",
       "      <th>1393567</th>\n",
       "      <td>10208623</td>\n",
       "      <td>2016-12-31</td>\n",
       "      <td>f</td>\n",
       "      <td>10208623</td>\n",
       "      <td>Apartment</td>\n",
       "      <td>Large Lakefront Apartment</td>\n",
       "      <td>$87.00</td>\n",
       "    </tr>\n",
       "    <tr>\n",
       "      <th>1393568</th>\n",
       "      <td>10208623</td>\n",
       "      <td>2017-01-01</td>\n",
       "      <td>f</td>\n",
       "      <td>10208623</td>\n",
       "      <td>Apartment</td>\n",
       "      <td>Large Lakefront Apartment</td>\n",
       "      <td>$87.00</td>\n",
       "    </tr>\n",
       "    <tr>\n",
       "      <th>1393569</th>\n",
       "      <td>10208623</td>\n",
       "      <td>2017-01-02</td>\n",
       "      <td>f</td>\n",
       "      <td>10208623</td>\n",
       "      <td>Apartment</td>\n",
       "      <td>Large Lakefront Apartment</td>\n",
       "      <td>$87.00</td>\n",
       "    </tr>\n",
       "  </tbody>\n",
       "</table>\n",
       "<p>1393570 rows × 7 columns</p>\n",
       "</div>"
      ],
      "text/plain": [
       "         listing_id       date available        id property_type  \\\n",
       "0            241032 2016-01-04         t    241032     Apartment   \n",
       "1            241032 2016-01-05         t    241032     Apartment   \n",
       "2            241032 2016-01-06         f    241032     Apartment   \n",
       "3            241032 2016-01-07         f    241032     Apartment   \n",
       "4            241032 2016-01-08         f    241032     Apartment   \n",
       "...             ...        ...       ...       ...           ...   \n",
       "1393565    10208623 2016-12-29         f  10208623     Apartment   \n",
       "1393566    10208623 2016-12-30         f  10208623     Apartment   \n",
       "1393567    10208623 2016-12-31         f  10208623     Apartment   \n",
       "1393568    10208623 2017-01-01         f  10208623     Apartment   \n",
       "1393569    10208623 2017-01-02         f  10208623     Apartment   \n",
       "\n",
       "                                 name   price  \n",
       "0        Stylish Queen Anne Apartment  $85.00  \n",
       "1        Stylish Queen Anne Apartment  $85.00  \n",
       "2        Stylish Queen Anne Apartment  $85.00  \n",
       "3        Stylish Queen Anne Apartment  $85.00  \n",
       "4        Stylish Queen Anne Apartment  $85.00  \n",
       "...                               ...     ...  \n",
       "1393565     Large Lakefront Apartment  $87.00  \n",
       "1393566     Large Lakefront Apartment  $87.00  \n",
       "1393567     Large Lakefront Apartment  $87.00  \n",
       "1393568     Large Lakefront Apartment  $87.00  \n",
       "1393569     Large Lakefront Apartment  $87.00  \n",
       "\n",
       "[1393570 rows x 7 columns]"
      ]
     },
     "execution_count": 14,
     "metadata": {},
     "output_type": "execute_result"
    }
   ],
   "source": [
    "# Create new df by combine calendar and lítings\n",
    "df_new = df_calen.merge(df_listings, left_on = ['listing_id'] , right_on = ['id'], how='left' )\n",
    "df_new"
   ]
  },
  {
   "cell_type": "code",
   "execution_count": 15,
   "id": "5cf74665",
   "metadata": {},
   "outputs": [
    {
     "data": {
      "text/plain": [
       "(1393570, 7)"
      ]
     },
     "execution_count": 15,
     "metadata": {},
     "output_type": "execute_result"
    }
   ],
   "source": [
    "# check number of values\n",
    "df_new.shape"
   ]
  },
  {
   "cell_type": "code",
   "execution_count": 16,
   "id": "2b329c5c",
   "metadata": {},
   "outputs": [],
   "source": [
    "# create column year\n",
    "df_new['year'] = df_new['date'].dt.year"
   ]
  },
  {
   "cell_type": "code",
   "execution_count": 17,
   "id": "029666dd",
   "metadata": {},
   "outputs": [],
   "source": [
    "# create column month\n",
    "df_new['month'] = df_new['date'].dt.month"
   ]
  },
  {
   "cell_type": "code",
   "execution_count": 18,
   "id": "fc5b48f7",
   "metadata": {},
   "outputs": [],
   "source": [
    "# create column day of week\n",
    "df_new['day_of_week'] = df_new['date'].dt.day_name()"
   ]
  },
  {
   "cell_type": "code",
   "execution_count": 19,
   "id": "ff2bdce6",
   "metadata": {},
   "outputs": [
    {
     "data": {
      "text/plain": [
       "year\n",
       "2016    99.452055\n",
       "2017     0.547945\n",
       "Name: count, dtype: float64"
      ]
     },
     "execution_count": 19,
     "metadata": {},
     "output_type": "execute_result"
    }
   ],
   "source": [
    "# check number of data base on year\n",
    "year_check = df_new['year'].value_counts()/df_new.shape[0] * 100\n",
    "year_check"
   ]
  },
  {
   "cell_type": "markdown",
   "id": "449cbd72",
   "metadata": {},
   "source": [
    "We can see that, the number of data in 2017 is small, so we eliminate them and just get data from 2016 to make sense when answer questions above."
   ]
  },
  {
   "cell_type": "code",
   "execution_count": 20,
   "id": "3339841b",
   "metadata": {},
   "outputs": [],
   "source": [
    "# Create df for data just for booked and them in 2016\n",
    "df_new_2016 = df_new.loc[(df_new['year'] == 2016) & (df_new['available'] == 'f')]"
   ]
  },
  {
   "cell_type": "code",
   "execution_count": 21,
   "id": "eb4649c8",
   "metadata": {},
   "outputs": [
    {
     "data": {
      "text/plain": [
       "2          Wednesday\n",
       "3           Thursday\n",
       "4             Friday\n",
       "5           Saturday\n",
       "6             Sunday\n",
       "             ...    \n",
       "1393563      Tuesday\n",
       "1393564    Wednesday\n",
       "1393565     Thursday\n",
       "1393566       Friday\n",
       "1393567     Saturday\n",
       "Name: day_of_week, Length: 457090, dtype: object"
      ]
     },
     "execution_count": 21,
     "metadata": {},
     "output_type": "execute_result"
    }
   ],
   "source": [
    "df_new_2016['day_of_week']"
   ]
  },
  {
   "cell_type": "markdown",
   "id": "4ca53628",
   "metadata": {},
   "source": [
    "## Data Visualization and Evaluate <a class=\"anchor\" id=\"data-visualization-and-evaluate\"></a>"
   ]
  },
  {
   "cell_type": "markdown",
   "id": "d9a7882e",
   "metadata": {},
   "source": [
    "### Question 1: What is the busiest day of the week and month? <a id=\"question-1\"></a>"
   ]
  },
  {
   "cell_type": "code",
   "execution_count": 22,
   "id": "5841d0bf",
   "metadata": {},
   "outputs": [
    {
     "data": {
      "image/png": "[encoded data removed]",
      "text/plain": [
       "<Figure size 640x480 with 1 Axes>"
      ]
     },
     "metadata": {},
     "output_type": "display_data"
    }
   ],
   "source": [
    "# create new dataframe to store\n",
    "df_grp_by_mon = df_new_2016.groupby('month').count()\n",
    "ax = sns.barplot( x = df_grp_by_mon.index.values, y = df_grp_by_mon['listing_id'].values)\n",
    "ax.set_ylabel(\"Num of listing\")\n",
    "ax.set_xlabel(\"Month\")\n",
    "ax.set_title(\"Distribution of listing from January to December\")\n",
    "plt.savefig('./graph/Distribution of listing from January to December.png')"
   ]
  },
  {
   "cell_type": "code",
   "execution_count": 23,
   "id": "ed650cad",
   "metadata": {},
   "outputs": [
    {
     "data": {
      "text/plain": [
       "31297"
      ]
     },
     "execution_count": 23,
     "metadata": {},
     "output_type": "execute_result"
    }
   ],
   "source": [
    "min(df_grp_by_mon['id'])"
   ]
  },
  {
   "cell_type": "code",
   "execution_count": 24,
   "id": "08dd7101",
   "metadata": {},
   "outputs": [
    {
     "data": {
      "text/html": [
       "<div>\n",
       "<style scoped>\n",
       "    .dataframe tbody tr th:only-of-type {\n",
       "        vertical-align: middle;\n",
       "    }\n",
       "\n",
       "    .dataframe tbody tr th {\n",
       "        vertical-align: top;\n",
       "    }\n",
       "\n",
       "    .dataframe thead th {\n",
       "        text-align: right;\n",
       "    }\n",
       "</style>\n",
       "<table border=\"1\" class=\"dataframe\">\n",
       "  <thead>\n",
       "    <tr style=\"text-align: right;\">\n",
       "      <th></th>\n",
       "      <th>listing_id</th>\n",
       "      <th>date</th>\n",
       "      <th>available</th>\n",
       "      <th>id</th>\n",
       "      <th>property_type</th>\n",
       "      <th>name</th>\n",
       "      <th>price</th>\n",
       "      <th>year</th>\n",
       "      <th>day_of_week</th>\n",
       "    </tr>\n",
       "    <tr>\n",
       "      <th>month</th>\n",
       "      <th></th>\n",
       "      <th></th>\n",
       "      <th></th>\n",
       "      <th></th>\n",
       "      <th></th>\n",
       "      <th></th>\n",
       "      <th></th>\n",
       "      <th></th>\n",
       "      <th></th>\n",
       "    </tr>\n",
       "  </thead>\n",
       "  <tbody>\n",
       "    <tr>\n",
       "      <th>1</th>\n",
       "      <td>47665</td>\n",
       "      <td>47665</td>\n",
       "      <td>47665</td>\n",
       "      <td>47665</td>\n",
       "      <td>47637</td>\n",
       "      <td>47665</td>\n",
       "      <td>47665</td>\n",
       "      <td>47665</td>\n",
       "      <td>47665</td>\n",
       "    </tr>\n",
       "    <tr>\n",
       "      <th>2</th>\n",
       "      <td>37401</td>\n",
       "      <td>37401</td>\n",
       "      <td>37401</td>\n",
       "      <td>37401</td>\n",
       "      <td>37373</td>\n",
       "      <td>37401</td>\n",
       "      <td>37401</td>\n",
       "      <td>37401</td>\n",
       "      <td>37401</td>\n",
       "    </tr>\n",
       "    <tr>\n",
       "      <th>3</th>\n",
       "      <td>34420</td>\n",
       "      <td>34420</td>\n",
       "      <td>34420</td>\n",
       "      <td>34420</td>\n",
       "      <td>34420</td>\n",
       "      <td>34420</td>\n",
       "      <td>34420</td>\n",
       "      <td>34420</td>\n",
       "      <td>34420</td>\n",
       "    </tr>\n",
       "    <tr>\n",
       "      <th>4</th>\n",
       "      <td>38503</td>\n",
       "      <td>38503</td>\n",
       "      <td>38503</td>\n",
       "      <td>38503</td>\n",
       "      <td>38503</td>\n",
       "      <td>38503</td>\n",
       "      <td>38503</td>\n",
       "      <td>38503</td>\n",
       "      <td>38503</td>\n",
       "    </tr>\n",
       "    <tr>\n",
       "      <th>5</th>\n",
       "      <td>38387</td>\n",
       "      <td>38387</td>\n",
       "      <td>38387</td>\n",
       "      <td>38387</td>\n",
       "      <td>38387</td>\n",
       "      <td>38387</td>\n",
       "      <td>38387</td>\n",
       "      <td>38387</td>\n",
       "      <td>38387</td>\n",
       "    </tr>\n",
       "    <tr>\n",
       "      <th>6</th>\n",
       "      <td>37296</td>\n",
       "      <td>37296</td>\n",
       "      <td>37296</td>\n",
       "      <td>37296</td>\n",
       "      <td>37296</td>\n",
       "      <td>37296</td>\n",
       "      <td>37296</td>\n",
       "      <td>37296</td>\n",
       "      <td>37296</td>\n",
       "    </tr>\n",
       "    <tr>\n",
       "      <th>7</th>\n",
       "      <td>44136</td>\n",
       "      <td>44136</td>\n",
       "      <td>44136</td>\n",
       "      <td>44136</td>\n",
       "      <td>44136</td>\n",
       "      <td>44136</td>\n",
       "      <td>44136</td>\n",
       "      <td>44136</td>\n",
       "      <td>44136</td>\n",
       "    </tr>\n",
       "    <tr>\n",
       "      <th>8</th>\n",
       "      <td>42011</td>\n",
       "      <td>42011</td>\n",
       "      <td>42011</td>\n",
       "      <td>42011</td>\n",
       "      <td>42011</td>\n",
       "      <td>42011</td>\n",
       "      <td>42011</td>\n",
       "      <td>42011</td>\n",
       "      <td>42011</td>\n",
       "    </tr>\n",
       "    <tr>\n",
       "      <th>9</th>\n",
       "      <td>37294</td>\n",
       "      <td>37294</td>\n",
       "      <td>37294</td>\n",
       "      <td>37294</td>\n",
       "      <td>37294</td>\n",
       "      <td>37294</td>\n",
       "      <td>37294</td>\n",
       "      <td>37294</td>\n",
       "      <td>37294</td>\n",
       "    </tr>\n",
       "    <tr>\n",
       "      <th>10</th>\n",
       "      <td>35920</td>\n",
       "      <td>35920</td>\n",
       "      <td>35920</td>\n",
       "      <td>35920</td>\n",
       "      <td>35920</td>\n",
       "      <td>35920</td>\n",
       "      <td>35920</td>\n",
       "      <td>35920</td>\n",
       "      <td>35920</td>\n",
       "    </tr>\n",
       "    <tr>\n",
       "      <th>11</th>\n",
       "      <td>32760</td>\n",
       "      <td>32760</td>\n",
       "      <td>32760</td>\n",
       "      <td>32760</td>\n",
       "      <td>32760</td>\n",
       "      <td>32760</td>\n",
       "      <td>32760</td>\n",
       "      <td>32760</td>\n",
       "      <td>32760</td>\n",
       "    </tr>\n",
       "    <tr>\n",
       "      <th>12</th>\n",
       "      <td>31297</td>\n",
       "      <td>31297</td>\n",
       "      <td>31297</td>\n",
       "      <td>31297</td>\n",
       "      <td>31297</td>\n",
       "      <td>31297</td>\n",
       "      <td>31297</td>\n",
       "      <td>31297</td>\n",
       "      <td>31297</td>\n",
       "    </tr>\n",
       "  </tbody>\n",
       "</table>\n",
       "</div>"
      ],
      "text/plain": [
       "       listing_id   date  available     id  property_type   name  price  \\\n",
       "month                                                                     \n",
       "1           47665  47665      47665  47665          47637  47665  47665   \n",
       "2           37401  37401      37401  37401          37373  37401  37401   \n",
       "3           34420  34420      34420  34420          34420  34420  34420   \n",
       "4           38503  38503      38503  38503          38503  38503  38503   \n",
       "5           38387  38387      38387  38387          38387  38387  38387   \n",
       "6           37296  37296      37296  37296          37296  37296  37296   \n",
       "7           44136  44136      44136  44136          44136  44136  44136   \n",
       "8           42011  42011      42011  42011          42011  42011  42011   \n",
       "9           37294  37294      37294  37294          37294  37294  37294   \n",
       "10          35920  35920      35920  35920          35920  35920  35920   \n",
       "11          32760  32760      32760  32760          32760  32760  32760   \n",
       "12          31297  31297      31297  31297          31297  31297  31297   \n",
       "\n",
       "        year  day_of_week  \n",
       "month                      \n",
       "1      47665        47665  \n",
       "2      37401        37401  \n",
       "3      34420        34420  \n",
       "4      38503        38503  \n",
       "5      38387        38387  \n",
       "6      37296        37296  \n",
       "7      44136        44136  \n",
       "8      42011        42011  \n",
       "9      37294        37294  \n",
       "10     35920        35920  \n",
       "11     32760        32760  \n",
       "12     31297        31297  "
      ]
     },
     "execution_count": 24,
     "metadata": {},
     "output_type": "execute_result"
    }
   ],
   "source": [
    "df_grp_by_mon"
   ]
  },
  {
   "cell_type": "markdown",
   "id": "b9f3d65a",
   "metadata": {},
   "source": [
    "As result we can see that January, July and August are months that busiest of 2016."
   ]
  },
  {
   "cell_type": "code",
   "execution_count": 25,
   "id": "cba9d9bc",
   "metadata": {},
   "outputs": [
    {
     "data": {
      "image/png": "[encoded data removed]",
      "text/plain": [
       "<Figure size 640x480 with 1 Axes>"
      ]
     },
     "metadata": {},
     "output_type": "display_data"
    }
   ],
   "source": [
    "dow = df_new_2016['day_of_week'].value_counts().sort_values()\n",
    "ax = dow.plot(kind='barh',  color='skyblue')\n",
    "plt.xlim([60000, max(dow) + 500])\n",
    "# Add value labels to each bar\n",
    "for i, v in enumerate(dow):\n",
    "    ax.text(60000 + (v-60000)/2, i , str(v), color='black', fontweight='bold', va = 'center')\n",
    "plt.title('Check booked rooms by day of week')\n",
    "plt.ylabel('Day of week')\n",
    "plt.xlabel('Number of booking')\n",
    "# save chart\n",
    "plt.savefig('./graph/Check booked rooms by day of week.png');\n",
    "# show chart\n",
    "plt.show();\n",
    "\n"
   ]
  },
  {
   "cell_type": "markdown",
   "id": "a1d274ad",
   "metadata": {},
   "source": [
    "People often choose Friday and Saturday to book AirBnB"
   ]
  },
  {
   "cell_type": "markdown",
   "id": "0faac98a",
   "metadata": {},
   "source": [
    "### Question 2: The top 5 property types of AirBnB have the most in Seattle? <a id=\"question-2\"></a>"
   ]
  },
  {
   "cell_type": "code",
   "execution_count": 26,
   "id": "955b54a7",
   "metadata": {},
   "outputs": [
    {
     "data": {
      "image/png": "[encoded data removed]",
      "text/plain": [
       "<Figure size 640x480 with 1 Axes>"
      ]
     },
     "metadata": {},
     "output_type": "display_data"
    }
   ],
   "source": [
    "# Assuming 'name' is a Series with index as the Airbnb names and values as counts\n",
    "property_type = df_new[df_new['available'] == 'f']['property_type'].value_counts()[0:5].sort_values(ascending = True)\n",
    "\n",
    "ax = sns.barplot( x = property_type.index.values, y = property_type.values)\n",
    "# ax.set_ylim(0, max(df_grp_by_mon['listing_id'].values) + 1000)\n",
    "ax.set_ylabel(\"Number of Property type\")\n",
    "ax.set_xlabel(\"Property type\")\n",
    "ax.set_title(\"Top 5 Property type popular in Seattle\")\n",
    "\n",
    "plt.savefig('./graph/Top 5 Property type popular in Seattle.png')\n"
   ]
  },
  {
   "cell_type": "markdown",
   "id": "0878ab1a",
   "metadata": {},
   "source": [
    "### Question 3: What was the monthly revenue of Airbnb in Seattle in 2016?\n",
    " <a id=\"question-3\"></a>"
   ]
  },
  {
   "cell_type": "code",
   "execution_count": 27,
   "id": "8a76e05b",
   "metadata": {},
   "outputs": [
    {
     "data": {
      "text/html": [
       "<div>\n",
       "<style scoped>\n",
       "    .dataframe tbody tr th:only-of-type {\n",
       "        vertical-align: middle;\n",
       "    }\n",
       "\n",
       "    .dataframe tbody tr th {\n",
       "        vertical-align: top;\n",
       "    }\n",
       "\n",
       "    .dataframe thead th {\n",
       "        text-align: right;\n",
       "    }\n",
       "</style>\n",
       "<table border=\"1\" class=\"dataframe\">\n",
       "  <thead>\n",
       "    <tr style=\"text-align: right;\">\n",
       "      <th></th>\n",
       "      <th>listing_id</th>\n",
       "      <th>date</th>\n",
       "      <th>available</th>\n",
       "      <th>id</th>\n",
       "      <th>property_type</th>\n",
       "      <th>name</th>\n",
       "      <th>price</th>\n",
       "      <th>year</th>\n",
       "      <th>month</th>\n",
       "      <th>day_of_week</th>\n",
       "    </tr>\n",
       "  </thead>\n",
       "  <tbody>\n",
       "    <tr>\n",
       "      <th>2</th>\n",
       "      <td>241032</td>\n",
       "      <td>2016-01-06</td>\n",
       "      <td>f</td>\n",
       "      <td>241032</td>\n",
       "      <td>Apartment</td>\n",
       "      <td>Stylish Queen Anne Apartment</td>\n",
       "      <td>85.0</td>\n",
       "      <td>2016</td>\n",
       "      <td>1</td>\n",
       "      <td>Wednesday</td>\n",
       "    </tr>\n",
       "    <tr>\n",
       "      <th>3</th>\n",
       "      <td>241032</td>\n",
       "      <td>2016-01-07</td>\n",
       "      <td>f</td>\n",
       "      <td>241032</td>\n",
       "      <td>Apartment</td>\n",
       "      <td>Stylish Queen Anne Apartment</td>\n",
       "      <td>85.0</td>\n",
       "      <td>2016</td>\n",
       "      <td>1</td>\n",
       "      <td>Thursday</td>\n",
       "    </tr>\n",
       "    <tr>\n",
       "      <th>4</th>\n",
       "      <td>241032</td>\n",
       "      <td>2016-01-08</td>\n",
       "      <td>f</td>\n",
       "      <td>241032</td>\n",
       "      <td>Apartment</td>\n",
       "      <td>Stylish Queen Anne Apartment</td>\n",
       "      <td>85.0</td>\n",
       "      <td>2016</td>\n",
       "      <td>1</td>\n",
       "      <td>Friday</td>\n",
       "    </tr>\n",
       "    <tr>\n",
       "      <th>5</th>\n",
       "      <td>241032</td>\n",
       "      <td>2016-01-09</td>\n",
       "      <td>f</td>\n",
       "      <td>241032</td>\n",
       "      <td>Apartment</td>\n",
       "      <td>Stylish Queen Anne Apartment</td>\n",
       "      <td>85.0</td>\n",
       "      <td>2016</td>\n",
       "      <td>1</td>\n",
       "      <td>Saturday</td>\n",
       "    </tr>\n",
       "    <tr>\n",
       "      <th>6</th>\n",
       "      <td>241032</td>\n",
       "      <td>2016-01-10</td>\n",
       "      <td>f</td>\n",
       "      <td>241032</td>\n",
       "      <td>Apartment</td>\n",
       "      <td>Stylish Queen Anne Apartment</td>\n",
       "      <td>85.0</td>\n",
       "      <td>2016</td>\n",
       "      <td>1</td>\n",
       "      <td>Sunday</td>\n",
       "    </tr>\n",
       "    <tr>\n",
       "      <th>...</th>\n",
       "      <td>...</td>\n",
       "      <td>...</td>\n",
       "      <td>...</td>\n",
       "      <td>...</td>\n",
       "      <td>...</td>\n",
       "      <td>...</td>\n",
       "      <td>...</td>\n",
       "      <td>...</td>\n",
       "      <td>...</td>\n",
       "      <td>...</td>\n",
       "    </tr>\n",
       "    <tr>\n",
       "      <th>1393563</th>\n",
       "      <td>10208623</td>\n",
       "      <td>2016-12-27</td>\n",
       "      <td>f</td>\n",
       "      <td>10208623</td>\n",
       "      <td>Apartment</td>\n",
       "      <td>Large Lakefront Apartment</td>\n",
       "      <td>87.0</td>\n",
       "      <td>2016</td>\n",
       "      <td>12</td>\n",
       "      <td>Tuesday</td>\n",
       "    </tr>\n",
       "    <tr>\n",
       "      <th>1393564</th>\n",
       "      <td>10208623</td>\n",
       "      <td>2016-12-28</td>\n",
       "      <td>f</td>\n",
       "      <td>10208623</td>\n",
       "      <td>Apartment</td>\n",
       "      <td>Large Lakefront Apartment</td>\n",
       "      <td>87.0</td>\n",
       "      <td>2016</td>\n",
       "      <td>12</td>\n",
       "      <td>Wednesday</td>\n",
       "    </tr>\n",
       "    <tr>\n",
       "      <th>1393565</th>\n",
       "      <td>10208623</td>\n",
       "      <td>2016-12-29</td>\n",
       "      <td>f</td>\n",
       "      <td>10208623</td>\n",
       "      <td>Apartment</td>\n",
       "      <td>Large Lakefront Apartment</td>\n",
       "      <td>87.0</td>\n",
       "      <td>2016</td>\n",
       "      <td>12</td>\n",
       "      <td>Thursday</td>\n",
       "    </tr>\n",
       "    <tr>\n",
       "      <th>1393566</th>\n",
       "      <td>10208623</td>\n",
       "      <td>2016-12-30</td>\n",
       "      <td>f</td>\n",
       "      <td>10208623</td>\n",
       "      <td>Apartment</td>\n",
       "      <td>Large Lakefront Apartment</td>\n",
       "      <td>87.0</td>\n",
       "      <td>2016</td>\n",
       "      <td>12</td>\n",
       "      <td>Friday</td>\n",
       "    </tr>\n",
       "    <tr>\n",
       "      <th>1393567</th>\n",
       "      <td>10208623</td>\n",
       "      <td>2016-12-31</td>\n",
       "      <td>f</td>\n",
       "      <td>10208623</td>\n",
       "      <td>Apartment</td>\n",
       "      <td>Large Lakefront Apartment</td>\n",
       "      <td>87.0</td>\n",
       "      <td>2016</td>\n",
       "      <td>12</td>\n",
       "      <td>Saturday</td>\n",
       "    </tr>\n",
       "  </tbody>\n",
       "</table>\n",
       "<p>457090 rows × 10 columns</p>\n",
       "</div>"
      ],
      "text/plain": [
       "         listing_id       date available        id property_type  \\\n",
       "2            241032 2016-01-06         f    241032     Apartment   \n",
       "3            241032 2016-01-07         f    241032     Apartment   \n",
       "4            241032 2016-01-08         f    241032     Apartment   \n",
       "5            241032 2016-01-09         f    241032     Apartment   \n",
       "6            241032 2016-01-10         f    241032     Apartment   \n",
       "...             ...        ...       ...       ...           ...   \n",
       "1393563    10208623 2016-12-27         f  10208623     Apartment   \n",
       "1393564    10208623 2016-12-28         f  10208623     Apartment   \n",
       "1393565    10208623 2016-12-29         f  10208623     Apartment   \n",
       "1393566    10208623 2016-12-30         f  10208623     Apartment   \n",
       "1393567    10208623 2016-12-31         f  10208623     Apartment   \n",
       "\n",
       "                                 name  price  year  month day_of_week  \n",
       "2        Stylish Queen Anne Apartment   85.0  2016      1   Wednesday  \n",
       "3        Stylish Queen Anne Apartment   85.0  2016      1    Thursday  \n",
       "4        Stylish Queen Anne Apartment   85.0  2016      1      Friday  \n",
       "5        Stylish Queen Anne Apartment   85.0  2016      1    Saturday  \n",
       "6        Stylish Queen Anne Apartment   85.0  2016      1      Sunday  \n",
       "...                               ...    ...   ...    ...         ...  \n",
       "1393563     Large Lakefront Apartment   87.0  2016     12     Tuesday  \n",
       "1393564     Large Lakefront Apartment   87.0  2016     12   Wednesday  \n",
       "1393565     Large Lakefront Apartment   87.0  2016     12    Thursday  \n",
       "1393566     Large Lakefront Apartment   87.0  2016     12      Friday  \n",
       "1393567     Large Lakefront Apartment   87.0  2016     12    Saturday  \n",
       "\n",
       "[457090 rows x 10 columns]"
      ]
     },
     "execution_count": 27,
     "metadata": {},
     "output_type": "execute_result"
    }
   ],
   "source": [
    "# Using define function to convert price\n",
    "get_price(df_new_2016, ['price'])"
   ]
  },
  {
   "cell_type": "code",
   "execution_count": 28,
   "id": "dc51fd6d",
   "metadata": {},
   "outputs": [
    {
     "data": {
      "text/plain": [
       "month\n",
       "1     6237723.0\n",
       "2     5013744.0\n",
       "3     4718709.0\n",
       "4     5021914.0\n",
       "5     5011381.0\n",
       "6     4893535.0\n",
       "7     5616174.0\n",
       "8     5342659.0\n",
       "9     4714950.0\n",
       "10    4534792.0\n",
       "11    4141330.0\n",
       "12    3937010.0\n",
       "Name: price, dtype: float64"
      ]
     },
     "execution_count": 28,
     "metadata": {},
     "output_type": "execute_result"
    }
   ],
   "source": [
    "df_income = df_new_2016.groupby('month').sum('price')['price']\n",
    "df_income"
   ]
  },
  {
   "cell_type": "code",
   "execution_count": 29,
   "id": "58ea230d",
   "metadata": {},
   "outputs": [
    {
     "data": {
      "image/png": "[encoded data removed]",
      "text/plain": [
       "<Figure size 640x480 with 1 Axes>"
      ]
     },
     "metadata": {},
     "output_type": "display_data"
    }
   ],
   "source": [
    "ax = sns.barplot( x = df_income.index.values, y = df_income.values/1000000)\n",
    "ax.set_ylabel(\"Num of listing\")\n",
    "ax.set_xlabel(\"Month\")\n",
    "ax.set_title(\"Revenue in 2016\");\n",
    "plt.savefig('./graph/Revenue in 2016.png')\n"
   ]
  },
  {
   "cell_type": "markdown",
   "id": "4b23f06a",
   "metadata": {},
   "source": [
    "Based on the chart, we observe the following Revenue for Airbnb listings in Seattle during 2016: **January** is the month have highest revenue with over **6 milion dollar**. **July** and **August** get over **5 milion dollar**, and **December** is the month is lowest revenue about **4 milion dollar**.  \n",
    "These insights highlight the seasonal variations in Airbnb revenue, with winter months generally yielding lower earnings compared to summer months."
   ]
  },
  {
   "cell_type": "code",
   "execution_count": null,
   "id": "c589ba60",
   "metadata": {},
   "outputs": [],
   "source": []
  },
  {
   "cell_type": "code",
   "execution_count": null,
   "id": "04abfff5",
   "metadata": {},
   "outputs": [],
   "source": []
  },
  {
   "cell_type": "code",
   "execution_count": null,
   "id": "a0aa754b",
   "metadata": {},
   "outputs": [],
   "source": []
  },
  {
   "cell_type": "code",
   "execution_count": null,
   "id": "7b9c730b",
   "metadata": {},
   "outputs": [],
   "source": []
  }
 ],
 "metadata": {
  "kernelspec": {
   "display_name": "Python 3 (ipykernel)",
   "language": "python",
   "name": "python3"
  },
  "language_info": {
   "codemirror_mode": {
    "name": "ipython",
    "version": 3
   },
   "file_extension": ".py",
   "mimetype": "text/x-python",
   "name": "python",
   "nbconvert_exporter": "python",
   "pygments_lexer": "ipython3",
   "version": "3.9.0"
  }
 },
 "nbformat": 4,
 "nbformat_minor": 5
}
